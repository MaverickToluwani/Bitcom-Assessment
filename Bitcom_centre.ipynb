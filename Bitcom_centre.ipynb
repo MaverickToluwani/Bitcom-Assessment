{
 "cells": [
  {
   "cell_type": "markdown",
   "metadata": {},
   "source": [
    "Colours worn at different days of the week my staffs at Bincom ICT"
   ]
  },
  {
   "cell_type": "code",
   "execution_count": 8,
   "metadata": {},
   "outputs": [],
   "source": [
    "Colours_dress_by_worker_DuringTheWeek = {\n",
    "    \"Monday\": [\"GREEN\", \"YELLOW\", \"GREEN\", \"BROWN\", \"BLUE\", \"PINK\", \"BLUE\", \"YELLOW\", \"ORANGE\", \"CREAM\", \n",
    "          \"ORANGE\", \"RED\", \"WHITE\", \"BLUE\", \"WHITE\", \"BLUE\", \"BLUE\", \"BLUE\", \"GREEN\"],\n",
    "    \n",
    "    \"Tuesday\": [\"ARSH\", \"BROWN\", \"GREEN\", \"BROWN\", \"BLUE\", \"BLUE\", \"BLEW\", \"PINK\", \"PINK\", \n",
    "           \"ORANGE\", \"ORANGE\", \"RED\", \"WHITE\", \"BLUE\", \"WHITE\", \"WHITE\", \"BLUE\", \"BLUE\", \"BLUE\"],\n",
    "    \n",
    "    \"Wednesday\": [\"GREEN\", \"YELLOW\", \"GREEN\", \"BROWN\", \"BLUE\", \"PINK\", \"RED\", \"YELLOW\", \"ORANGE\", \n",
    "             \"RED\", \"ORANGE\", \"RED\", \"BLUE\", \"BLUE\", \"WHITE\", \"BLUE\", \"BLUE\", \"WHITE\", \"WHITE\"],\n",
    "    \n",
    "    \"Thursday\": [\"BLUE\", \"BLUE\", \"GREEN\", \"WHITE\", \"BLUE\", \"BROWN\", \"PINK\", \"YELLOW\", \"ORANGE\", \n",
    "            \"CREAM\", \"ORANGE\", \"RED\", \"WHITE\", \"BLUE\", \"WHITE\", \"BLUE\", \"BLUE\", \"BLUE\", \"GREEN\"],\n",
    "    \n",
    "    \"Friday\": [\"GREEN\", \"WHITE\", \"GREEN\", \"BROWN\", \"BLUE\", \"BLUE\", \"BLACK\", \"WHITE\", \n",
    "          \"ORANGE\", \"RED\", \"RED\", \"RED\", \"WHITE\", \"BLUE\", \"WHITE\", \"BLUE\", \"BLUE\", \"BLUE\", \"WHITE\"]\n",
    "}"
   ]
  },
  {
   "cell_type": "code",
   "execution_count": 26,
   "metadata": {},
   "outputs": [
    {
     "name": "stdout",
     "output_type": "stream",
     "text": [
      "['RED', 'PINK', 'GREEN', 'YELLOW', 'ORANGE', 'BROWN', 'CREAM', 'WHITE', 'BLUE']\n",
      "['BLEW', 'RED', 'GREEN', 'PINK', 'ORANGE', 'BROWN', 'WHITE', 'ARSH', 'BLUE']\n",
      "['RED', 'PINK', 'GREEN', 'YELLOW', 'ORANGE', 'BROWN', 'WHITE', 'BLUE']\n",
      "['RED', 'PINK', 'GREEN', 'YELLOW', 'ORANGE', 'WHITE', 'BROWN', 'CREAM', 'BLUE']\n",
      "['RED', 'GREEN', 'ORANGE', 'WHITE', 'BROWN', 'BLACK', 'BLUE']\n"
     ]
    }
   ],
   "source": [
    "for colours in Colours_dress_by_worker_DuringTheWeek.values():\n",
    "    # To remove duplicate colours\n",
    "    print(list(set(colours)))\n",
    "    "
   ]
  },
  {
   "cell_type": "code",
   "execution_count": 38,
   "metadata": {},
   "outputs": [],
   "source": [
    "def Worker_colour_counter(arg):\n",
    "    \n",
    "    \"\"\"\n",
    "    Function to count the number \n",
    "    of workers that put on a particular\n",
    "    kind of colour\n",
    "    \n",
    "    \"\"\"\n",
    "    #initial color count\n",
    "    blue = 0\n",
    "    red = 0\n",
    "    pink = 0\n",
    "    green = 0 \n",
    "    yellow = 0 \n",
    "    orange = 0\n",
    "    brown = 0\n",
    "    cream = 0\n",
    "    white = 0\n",
    "    arsh = 0\n",
    "    blew = 0 \n",
    "    black = 0\n",
    "    \n",
    "    for colours in arg:\n",
    "        if colours == \"BLUE\":\n",
    "            blue += 1\n",
    "        elif colours == \"RED\":\n",
    "            red += 1\n",
    "        elif colours == \"PINK\":\n",
    "            pink += 1\n",
    "        elif colours == \"GREEN\":\n",
    "            green += 1\n",
    "        elif colours == \"YELLOW\":\n",
    "            yellow += 1\n",
    "        elif colours == \"ORANGE\":\n",
    "            orange += 1\n",
    "        elif colours == \"BROWN\":\n",
    "            brown += 1\n",
    "        elif colours == \"CREAM\":\n",
    "            cream += 1\n",
    "        elif colours == \"WHITE\":\n",
    "            white += 1\n",
    "        elif colours == \"ARSH\":\n",
    "            arsh += 1\n",
    "        elif colours == \"BLEW\":\n",
    "            blew += 1\n",
    "        elif colours == \"BLACK\":\n",
    "            black += 1\n",
    "        \n",
    "    print(\"Blue: \" + str(blue))\n",
    "    print(\"Red: \" + str(red))\n",
    "    print(\"Pink: \" + str(pink))\n",
    "    print(\"Green: \" + str(green))\n",
    "    print(\"Yellow: \" + str(yellow))\n",
    "    print(\"Orange: \" + str(orange))\n",
    "    print(\"Brown: \" + str(brown))\n",
    "    print(\"Cream: \" + str(cream))\n",
    "    print(\"White: \" + str(white))\n",
    "    print(\"Arsh: \" + str(arsh))\n",
    "    print(\"Blew: \" + str(blew))\n",
    "    print(\"Black: \" + str(black))"
   ]
  },
  {
   "cell_type": "code",
   "execution_count": 41,
   "metadata": {},
   "outputs": [
    {
     "name": "stdout",
     "output_type": "stream",
     "text": [
      "Blue: 6\n",
      "Red: 1\n",
      "Pink: 1\n",
      "Green: 3\n",
      "Yellow: 2\n",
      "Orange: 2\n",
      "Brown: 1\n",
      "Cream: 1\n",
      "White: 2\n",
      "Arsh: 0\n",
      "Blew: 0\n",
      "Black: 0\n",
      "\n",
      "\n",
      "Blue: 6\n",
      "Red: 1\n",
      "Pink: 2\n",
      "Green: 1\n",
      "Yellow: 0\n",
      "Orange: 2\n",
      "Brown: 2\n",
      "Cream: 0\n",
      "White: 3\n",
      "Arsh: 1\n",
      "Blew: 1\n",
      "Black: 0\n",
      "\n",
      "\n",
      "Blue: 5\n",
      "Red: 3\n",
      "Pink: 1\n",
      "Green: 2\n",
      "Yellow: 2\n",
      "Orange: 2\n",
      "Brown: 1\n",
      "Cream: 0\n",
      "White: 3\n",
      "Arsh: 0\n",
      "Blew: 0\n",
      "Black: 0\n",
      "\n",
      "\n",
      "Blue: 7\n",
      "Red: 1\n",
      "Pink: 1\n",
      "Green: 2\n",
      "Yellow: 1\n",
      "Orange: 2\n",
      "Brown: 1\n",
      "Cream: 1\n",
      "White: 3\n",
      "Arsh: 0\n",
      "Blew: 0\n",
      "Black: 0\n",
      "\n",
      "\n",
      "Blue: 6\n",
      "Red: 3\n",
      "Pink: 0\n",
      "Green: 2\n",
      "Yellow: 0\n",
      "Orange: 1\n",
      "Brown: 1\n",
      "Cream: 0\n",
      "White: 5\n",
      "Arsh: 0\n",
      "Blew: 0\n",
      "Black: 1\n",
      "\n",
      "\n"
     ]
    }
   ],
   "source": [
    "Worker_colour_counter(Colours_dress_by_worker_DuringTheWeek[\"Monday\"])\n",
    "print(\"\\n\")\n",
    "Worker_colour_counter(Colours_dress_by_worker_DuringTheWeek[\"Tuesday\"])\n",
    "print(\"\\n\")\n",
    "Worker_colour_counter(Colours_dress_by_worker_DuringTheWeek[\"Wednesday\"])\n",
    "print(\"\\n\")\n",
    "Worker_colour_counter(Colours_dress_by_worker_DuringTheWeek[\"Thursday\"])\n",
    "print(\"\\n\")\n",
    "Worker_colour_counter(Colours_dress_by_worker_DuringTheWeek[\"Friday\"])\n",
    "print(\"\\n\")"
   ]
  },
  {
   "cell_type": "code",
   "execution_count": 42,
   "metadata": {},
   "outputs": [
    {
     "name": "stdout",
     "output_type": "stream",
     "text": [
      "Enter day of the week to total number of workers that wore a particluar type or colour: Monday\n",
      "Blue: 6\n",
      "Red: 1\n",
      "Pink: 1\n",
      "Green: 3\n",
      "Yellow: 2\n",
      "Orange: 2\n",
      "Brown: 1\n",
      "Cream: 1\n",
      "White: 2\n",
      "Arsh: 0\n",
      "Blew: 0\n",
      "Black: 0\n"
     ]
    }
   ],
   "source": [
    "## General method to get data for any day of the week\n",
    "day_of_the_week = input(\"Enter day of the week to total number of workers that wore a particluar type or colour: \")\n",
    "Worker_colour_counter(Colours_dress_by_worker_DuringTheWeek[day_of_the_week])\n"
   ]
  },
  {
   "cell_type": "code",
   "execution_count": 53,
   "metadata": {},
   "outputs": [
    {
     "name": "stdout",
     "output_type": "stream",
     "text": [
      "30\n",
      "9\n",
      "5\n",
      "10\n",
      "5\n",
      "9\n",
      "6\n",
      "2\n",
      "16\n",
      "1\n",
      "1\n",
      "1\n"
     ]
    }
   ],
   "source": [
    "Total_blue_worn_in_the_week = 6 + 6 + 5 + 7 + 6\n",
    "print(Total_blue_worn_in_the_week)\n",
    "\n",
    "Total_red_worn_in_the_week = 1 + 1 + 3 + 1 + 3\n",
    "print(Total_red_worn_in_the_week)\n",
    "\n",
    "Total_pink_worn_in_the_week = 1 + 2 + 1 + 1 + 0\n",
    "print(Total_pink_worn_in_the_week)\n",
    "\n",
    "Total_green_worn_in_the_week = 3 + 1 + 2 + 2 + 2\n",
    "print(Total_green_worn_in_the_week)\n",
    "\n",
    "Total_yellow_worn_in_the_week = 2 + 0 + 2 + 1 + 0\n",
    "print(Total_yellow_worn_in_the_week)\n",
    "\n",
    "Total_orange_worn_in_the_week = 2 + 2 + 2 + 2 + 1\n",
    "print(Total_orange_worn_in_the_week)\n",
    "\n",
    "Total_brown_worn_in_the_week = 1 + 2 + 1 + 1 + 1\n",
    "print(Total_brown_worn_in_the_week)\n",
    "\n",
    "Total_cream_worn_in_the_week = 1 + 0 + 0 + 1 + 0\n",
    "print(Total_cream_worn_in_the_week )\n",
    "\n",
    "Total_white_worn_in_the_week = 2 + 3 + 3 + 3 + 5\n",
    "print(Total_white_worn_in_the_week)\n",
    "\n",
    "Total_arsh_worn_in_the_week =  0 + 1 + 0 + 0 + 0\n",
    "print(Total_arsh_worn_in_the_week)\n",
    "\n",
    "Total_blew_worn_in_the_week = 0 + 1 + 0 + 0 + 0\n",
    "print(Total_blew_worn_in_the_week)\n",
    "\n",
    "Total_black_worn_in_the_week = 0 + 0 + 0 + 0 + 1\n",
    "print(Total_black_worn_in_the_week)\n"
   ]
  },
  {
   "cell_type": "code",
   "execution_count": 64,
   "metadata": {},
   "outputs": [
    {
     "name": "stdout",
     "output_type": "stream",
     "text": [
      "[30, 9, 10, 5, 5, 9, 2, 6, 16, 1, 1, 1]\n"
     ]
    }
   ],
   "source": [
    "week_total_colour = [Total_blue_worn_in_the_week, Total_red_worn_in_the_week, Total_green_worn_in_the_week, Total_pink_worn_in_the_week, Total_yellow_worn_in_the_week, Total_orange_worn_in_the_week, Total_cream_worn_in_the_week, Total_brown_worn_in_the_week, Total_white_worn_in_the_week, Total_arsh_worn_in_the_week, Total_black_worn_in_the_week, Total_blew_worn_in_the_week ]\n",
    "\n",
    "print(week_total_colour)"
   ]
  },
  {
   "cell_type": "code",
   "execution_count": 143,
   "metadata": {},
   "outputs": [],
   "source": [
    "import math\n",
    "import numpy as np\n",
    "import pandas as pd"
   ]
  },
  {
   "cell_type": "code",
   "execution_count": 78,
   "metadata": {},
   "outputs": [],
   "source": [
    "data = { \"colour\" : [ \"blue\", \"red\", \"green\", \"pink\", \"yellow\", \"orange\", \"cream\", \"brown\", \"white\", \"arsh\", \"black\", \"blew\"],\n",
    "    \"Weekly colour Total\" : [Total_blue_worn_in_the_week, Total_red_worn_in_the_week, Total_green_worn_in_the_week, Total_pink_worn_in_the_week, Total_yellow_worn_in_the_week, Total_orange_worn_in_the_week, Total_cream_worn_in_the_week, Total_brown_worn_in_the_week, Total_white_worn_in_the_week, Total_arsh_worn_in_the_week, Total_black_worn_in_the_week, Total_blew_worn_in_the_week]\n",
    "}"
   ]
  },
  {
   "cell_type": "code",
   "execution_count": 93,
   "metadata": {},
   "outputs": [
    {
     "data": {
      "text/html": [
       "<div>\n",
       "<style scoped>\n",
       "    .dataframe tbody tr th:only-of-type {\n",
       "        vertical-align: middle;\n",
       "    }\n",
       "\n",
       "    .dataframe tbody tr th {\n",
       "        vertical-align: top;\n",
       "    }\n",
       "\n",
       "    .dataframe thead th {\n",
       "        text-align: right;\n",
       "    }\n",
       "</style>\n",
       "<table border=\"1\" class=\"dataframe\">\n",
       "  <thead>\n",
       "    <tr style=\"text-align: right;\">\n",
       "      <th></th>\n",
       "      <th>colour</th>\n",
       "      <th>Weekly colour Total</th>\n",
       "    </tr>\n",
       "  </thead>\n",
       "  <tbody>\n",
       "    <tr>\n",
       "      <td>0</td>\n",
       "      <td>blue</td>\n",
       "      <td>30</td>\n",
       "    </tr>\n",
       "    <tr>\n",
       "      <td>1</td>\n",
       "      <td>red</td>\n",
       "      <td>9</td>\n",
       "    </tr>\n",
       "    <tr>\n",
       "      <td>2</td>\n",
       "      <td>green</td>\n",
       "      <td>10</td>\n",
       "    </tr>\n",
       "    <tr>\n",
       "      <td>3</td>\n",
       "      <td>pink</td>\n",
       "      <td>5</td>\n",
       "    </tr>\n",
       "    <tr>\n",
       "      <td>4</td>\n",
       "      <td>yellow</td>\n",
       "      <td>5</td>\n",
       "    </tr>\n",
       "    <tr>\n",
       "      <td>5</td>\n",
       "      <td>orange</td>\n",
       "      <td>9</td>\n",
       "    </tr>\n",
       "    <tr>\n",
       "      <td>6</td>\n",
       "      <td>cream</td>\n",
       "      <td>2</td>\n",
       "    </tr>\n",
       "    <tr>\n",
       "      <td>7</td>\n",
       "      <td>brown</td>\n",
       "      <td>6</td>\n",
       "    </tr>\n",
       "    <tr>\n",
       "      <td>8</td>\n",
       "      <td>white</td>\n",
       "      <td>16</td>\n",
       "    </tr>\n",
       "    <tr>\n",
       "      <td>9</td>\n",
       "      <td>arsh</td>\n",
       "      <td>1</td>\n",
       "    </tr>\n",
       "    <tr>\n",
       "      <td>10</td>\n",
       "      <td>black</td>\n",
       "      <td>1</td>\n",
       "    </tr>\n",
       "    <tr>\n",
       "      <td>11</td>\n",
       "      <td>blew</td>\n",
       "      <td>1</td>\n",
       "    </tr>\n",
       "  </tbody>\n",
       "</table>\n",
       "</div>"
      ],
      "text/plain": [
       "    colour  Weekly colour Total\n",
       "0     blue                   30\n",
       "1      red                    9\n",
       "2    green                   10\n",
       "3     pink                    5\n",
       "4   yellow                    5\n",
       "5   orange                    9\n",
       "6    cream                    2\n",
       "7    brown                    6\n",
       "8    white                   16\n",
       "9     arsh                    1\n",
       "10   black                    1\n",
       "11    blew                    1"
      ]
     },
     "execution_count": 93,
     "metadata": {},
     "output_type": "execute_result"
    }
   ],
   "source": [
    "Workers_data = pd.DataFrame(data)\n",
    "Workers_data"
   ]
  },
  {
   "cell_type": "code",
   "execution_count": 62,
   "metadata": {},
   "outputs": [],
   "source": [
    "def mean_colour_worn(arg1):\n",
    "    mean_result = np.mean(arg1)\n",
    "    return mean_result"
   ]
  },
  {
   "cell_type": "code",
   "execution_count": 97,
   "metadata": {},
   "outputs": [
    {
     "data": {
      "text/plain": [
       "7.916666666666667"
      ]
     },
     "execution_count": 97,
     "metadata": {},
     "output_type": "execute_result"
    }
   ],
   "source": [
    "mean_colour_worn(week_total_colour)"
   ]
  },
  {
   "cell_type": "markdown",
   "metadata": {},
   "source": [
    "Answers to question 1\n",
    "\n",
    "* The mean for the set of colors is : 7.916666666666667 (Blue)"
   ]
  },
  {
   "cell_type": "markdown",
   "metadata": {},
   "source": [
    "Answers to question 2\n",
    "\n",
    "* Mode(Most occuring item): Blue"
   ]
  },
  {
   "cell_type": "code",
   "execution_count": 94,
   "metadata": {},
   "outputs": [],
   "source": [
    "def median_colour_worn(arg1):\n",
    "    mean_result = np.median(arg1)\n",
    "    return mean_result"
   ]
  },
  {
   "cell_type": "code",
   "execution_count": 95,
   "metadata": {},
   "outputs": [
    {
     "data": {
      "text/plain": [
       "5.5"
      ]
     },
     "execution_count": 95,
     "metadata": {},
     "output_type": "execute_result"
    }
   ],
   "source": [
    "median_colour_worn(week_total_colour)"
   ]
  },
  {
   "cell_type": "markdown",
   "metadata": {},
   "source": [
    "Answers to questions 3\n",
    "\n",
    "Median of the set of data: 5.5"
   ]
  },
  {
   "cell_type": "code",
   "execution_count": 100,
   "metadata": {},
   "outputs": [],
   "source": [
    "def varience_colour_worn(arg1):\n",
    "    varience_result = np.var(arg1)\n",
    "    return varience_result"
   ]
  },
  {
   "cell_type": "code",
   "execution_count": 101,
   "metadata": {},
   "outputs": [
    {
     "data": {
      "text/plain": [
       "63.243055555555564"
      ]
     },
     "execution_count": 101,
     "metadata": {},
     "output_type": "execute_result"
    }
   ],
   "source": [
    "varience_colour_worn(week_total_colour)"
   ]
  },
  {
   "cell_type": "markdown",
   "metadata": {},
   "source": [
    "Answers to questions 4\n",
    "\n",
    "varience of the set of data: 63.243055555555564"
   ]
  },
  {
   "cell_type": "code",
   "execution_count": 114,
   "metadata": {},
   "outputs": [],
   "source": [
    "total = Total_blue_worn_in_the_week + Total_red_worn_in_the_week + Total_green_worn_in_the_week + Total_pink_worn_in_the_week + Total_yellow_worn_in_the_week + Total_orange_worn_in_the_week + Total_cream_worn_in_the_week + Total_brown_worn_in_the_week + Total_white_worn_in_the_week + Total_arsh_worn_in_the_week + Total_black_worn_in_the_week + Total_blew_worn_in_the_week "
   ]
  },
  {
   "cell_type": "code",
   "execution_count": 115,
   "metadata": {},
   "outputs": [
    {
     "name": "stdout",
     "output_type": "stream",
     "text": [
      "95\n"
     ]
    }
   ],
   "source": [
    "print(total)"
   ]
  },
  {
   "cell_type": "code",
   "execution_count": 117,
   "metadata": {},
   "outputs": [
    {
     "name": "stdout",
     "output_type": "stream",
     "text": [
      "0.09473684210526316\n"
     ]
    }
   ],
   "source": [
    "probability_red = Total_red_worn_in_the_week / total\n",
    "print(probability_red)"
   ]
  },
  {
   "cell_type": "markdown",
   "metadata": {},
   "source": [
    "Answers to questions 5\n",
    "\n",
    "Prob(red) = 0.09473684210526316"
   ]
  },
  {
   "cell_type": "code",
   "execution_count": 223,
   "metadata": {},
   "outputs": [],
   "source": [
    "import random"
   ]
  },
  {
   "cell_type": "code",
   "execution_count": 219,
   "metadata": {},
   "outputs": [],
   "source": [
    "def decimal_generator(number_range):\n",
    "    \"\"\"\n",
    "    Function to generate \n",
    "    random n digits binary \n",
    "    numbers\n",
    "    \n",
    "    \"\"\"\n",
    "    binary = \"\"\n",
    "    for i in range(number_range):\n",
    "        count = str(random.randint(0,1))\n",
    "        binary += count\n",
    "    return binary"
   ]
  },
  {
   "cell_type": "code",
   "execution_count": 220,
   "metadata": {},
   "outputs": [
    {
     "name": "stdout",
     "output_type": "stream",
     "text": [
      "0111\n"
     ]
    }
   ],
   "source": [
    "# 4 is used since we want 4 digits binary numbers\n",
    "\n",
    "bin_result = decimal_generator(4)\n",
    "print(bin_result)"
   ]
  },
  {
   "cell_type": "code",
   "execution_count": 221,
   "metadata": {},
   "outputs": [],
   "source": [
    "def binary_to_decimal(decimal_num):\n",
    "    decimal = int(bin_result ,2)\n",
    "    print(decimal)"
   ]
  },
  {
   "cell_type": "code",
   "execution_count": 222,
   "metadata": {},
   "outputs": [
    {
     "name": "stdout",
     "output_type": "stream",
     "text": [
      "7\n"
     ]
    }
   ],
   "source": [
    "binary_to_decimal(bin_result)"
   ]
  },
  {
   "cell_type": "code",
   "execution_count": null,
   "metadata": {},
   "outputs": [],
   "source": []
  }
 ],
 "metadata": {
  "kernelspec": {
   "display_name": "Python 3",
   "language": "python",
   "name": "python3"
  },
  "language_info": {
   "codemirror_mode": {
    "name": "ipython",
    "version": 3
   },
   "file_extension": ".py",
   "mimetype": "text/x-python",
   "name": "python",
   "nbconvert_exporter": "python",
   "pygments_lexer": "ipython3",
   "version": "3.7.4"
  }
 },
 "nbformat": 4,
 "nbformat_minor": 2
}
